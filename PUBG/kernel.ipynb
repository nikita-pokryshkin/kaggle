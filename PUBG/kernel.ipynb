{
  "cells": [
    {
      "metadata": {
        "trusted": true,
        "_uuid": "57c3ce9791ef322bbfa57a0ca71459e425269e4a"
      },
      "cell_type": "code",
      "source": "import pandas as pd\nimport numpy as np\nimport matplotlib.pyplot as plt\n%matplotlib inline\nfrom sklearn.preprocessing import LabelEncoder",
      "execution_count": null,
      "outputs": []
    },
    {
      "metadata": {
        "trusted": true,
        "_uuid": "f594c882319824b57c0ff26dfd60828993d85da6"
      },
      "cell_type": "code",
      "source": "import seaborn as sns\nfrom sklearn.ensemble import RandomForestRegressor\nfrom sklearn.model_selection import train_test_split",
      "execution_count": null,
      "outputs": []
    },
    {
      "metadata": {
        "trusted": true,
        "_uuid": "f8418ad9cb2c2f6cc6947ffdd2ab08b4d3e0e11a"
      },
      "cell_type": "code",
      "source": "from fastai.imports import *\nfrom fastai.structured import *",
      "execution_count": null,
      "outputs": []
    },
    {
      "metadata": {
        "trusted": true,
        "_uuid": "4c3e071139ce3b28d19b8c2879cb46bdd563d500"
      },
      "cell_type": "code",
      "source": "KAGGLE_DIR = '../input/'\ndf_train = pd.read_csv(KAGGLE_DIR + 'train_V2.csv')\n",
      "execution_count": null,
      "outputs": []
    },
    {
      "metadata": {
        "trusted": true,
        "_uuid": "2538cf8e1c0f96c7bb570cb7253eb491b1941bee"
      },
      "cell_type": "code",
      "source": "df_test = pd.read_csv(KAGGLE_DIR + 'test_V2.csv')",
      "execution_count": null,
      "outputs": []
    },
    {
      "metadata": {
        "trusted": true,
        "_uuid": "f127232d051a0e401bd74b3664d3201d7b0f905d"
      },
      "cell_type": "code",
      "source": "df_train.matchType.unique()",
      "execution_count": null,
      "outputs": []
    },
    {
      "metadata": {
        "trusted": true,
        "_uuid": "f632d02273c5187fc546bc6aee4e0fb1e70eee68"
      },
      "cell_type": "code",
      "source": "df_train.columns",
      "execution_count": null,
      "outputs": []
    },
    {
      "metadata": {
        "trusted": true,
        "_uuid": "5a43fc5c49a3a8f359f84f4fd00027d94f1d69d3"
      },
      "cell_type": "code",
      "source": "df_train[df_train['winPlacePerc'].isnull()]",
      "execution_count": null,
      "outputs": []
    },
    {
      "metadata": {
        "trusted": true,
        "_uuid": "0c7ebe1643ba7bb46e9e4b711cef33dc117b700d"
      },
      "cell_type": "code",
      "source": "df_train.drop(2744604, inplace=True)",
      "execution_count": null,
      "outputs": []
    },
    {
      "metadata": {
        "trusted": true,
        "_uuid": "acba28f5df751f6dca21ecd16738bdaa87133f2f"
      },
      "cell_type": "code",
      "source": "df_train.head().T",
      "execution_count": null,
      "outputs": []
    },
    {
      "metadata": {
        "_uuid": "8d3a2ab10916e7f6bbd9d0fccf6d63ce2a884da6"
      },
      "cell_type": "markdown",
      "source": "### Посчитаем количество игроков в каждом режиме"
    },
    {
      "metadata": {
        "trusted": true,
        "_uuid": "33cd83b86ce60916efa4c192f4931fc701273184"
      },
      "cell_type": "code",
      "source": "#df_train.groupby([ \"matchType\"])[\"Id\"].count().sort_values(ascending=False)",
      "execution_count": null,
      "outputs": []
    },
    {
      "metadata": {
        "trusted": true,
        "_uuid": "e815ba9097777a092ae5703fb0c69ec12a2e1138"
      },
      "cell_type": "code",
      "source": "#df_train.matchType.hist(xrot=90,bins=50)",
      "execution_count": null,
      "outputs": []
    },
    {
      "metadata": {
        "collapsed": true,
        "_uuid": "35772055e1982563923e2a71fa06a45ea1e76cbb"
      },
      "cell_type": "markdown",
      "source": "### Kills count"
    },
    {
      "metadata": {
        "trusted": true,
        "_uuid": "5b921a4641f34177884054e1c1748eb88963b6a6"
      },
      "cell_type": "code",
      "source": "#df_train.loc[df_train['kills'] > df_train['kills'].quantile(0.99)] ='8+'\n#plt.figure(figsize=(15,10))\n#sns.countplot(df_train['kills'].astype('str').sort_values())\n#plt.title('Kill Count', fontsize=15)",
      "execution_count": null,
      "outputs": []
    },
    {
      "metadata": {
        "_uuid": "196cdb7ad1fa0dbdf380ca1d2d8084750a25ee82"
      },
      "cell_type": "markdown",
      "source": "seems like most people are not very good in shooters"
    },
    {
      "metadata": {
        "trusted": true,
        "_uuid": "9763c9da6a46331bfeceef555acbd9e1b041a496"
      },
      "cell_type": "code",
      "source": "#df_damage = df_train[df_train.kills ==0]\n#plt.figure(figsize=(15,10))\n#plt.title('Damage ')\n#sns.distplot(df_damage['damageDealt'])",
      "execution_count": null,
      "outputs": []
    },
    {
      "metadata": {
        "trusted": true,
        "_uuid": "37bf5b93f2c7c03e1d91290b04e4712541fca0c0"
      },
      "cell_type": "code",
      "source": "#print('{} players ({:.4f})% have won without a single kill'.format(\\\n#len(df_damage[df_damage['winPlacePerc']==1]),\\\n#    100*len(df_damage[df_damage['winPlacePerc']==0.7])/len(df_train)))",
      "execution_count": null,
      "outputs": []
    },
    {
      "metadata": {
        "_uuid": "e8196b4354cb8f339d24da82b6795a839ded83d8"
      },
      "cell_type": "markdown",
      "source": "Let's group  players by kill count"
    },
    {
      "metadata": {
        "trusted": true,
        "_uuid": "ba07eb85eb5023afc9fc3ac0169b639d98a88763"
      },
      "cell_type": "code",
      "source": "#df_train['killsCategory'] = pd.cut(df_train['kills'], [-1, 0,2,5,10,60]\\\n#                                   , labels=['0_kills','1-2_kills', '3-5_kills', '6-10_kills', '10+_kills'])\n#plt.figure(figsize=(15,8))\n#sns.boxplot(x='killsCategory', y='winPlacePerc', data=df_train)",
      "execution_count": null,
      "outputs": []
    },
    {
      "metadata": {
        "_uuid": "61d65867069916e515787c8af736a9dc06af3cd7"
      },
      "cell_type": "markdown",
      "source": "### Walk distance"
    },
    {
      "metadata": {
        "trusted": true,
        "_uuid": "cc463799e050e3b9c007f339b5d1d8cf10cebea5"
      },
      "cell_type": "code",
      "source": "#dist = df_train[df_train['walkDistance'] < df_train['walkDistance'].quantile(0.99)]\n#plt.figure(figsize=(15,10))\n#plt.title('Walk distance')\n#sns.distplot(dist['walkDistance'])",
      "execution_count": null,
      "outputs": []
    },
    {
      "metadata": {
        "_uuid": "036d9fdd7e5590c9521c1883ab05a1f46d2a5a4c"
      },
      "cell_type": "markdown",
      "source": "### Destroying a vehicle"
    },
    {
      "metadata": {
        "trusted": true,
        "_uuid": "eeb785efd43436f3f54ad05a7bda44c73cdd9004"
      },
      "cell_type": "code",
      "source": "#f, ax = plt.subplots(figsize =(20,10))\n#sns.pointplot(x='vehicleDestroys', y='winPlacePerc', data=df_train)\n#plt.xlabel('Number of Vehicle Destroys')\n#plt.ylabel('Win per')\n#plt.grid()",
      "execution_count": null,
      "outputs": []
    },
    {
      "metadata": {
        "_uuid": "d8a78a9d282d1789f75fad334da18c6954976ef5"
      },
      "cell_type": "markdown",
      "source": "### Heal"
    },
    {
      "metadata": {
        "trusted": true,
        "_uuid": "487dd4402bd25a9a7e9f91ec9803e869c32c8d62"
      },
      "cell_type": "code",
      "source": "#df_train.heals.mean(), df_train.heals.max(), df_train.heals.quantile(0.99), ",
      "execution_count": null,
      "outputs": []
    },
    {
      "metadata": {
        "trusted": true,
        "_uuid": "d3d0b307da35d9d791ce1dfacb389f38b2825993"
      },
      "cell_type": "code",
      "source": "#items = df_train[df_train.heals < df_train.heals.quantile(0.99)]\n#items = items[items.boosts < items.boosts.quantile(0.99)]\n#\n#plt.subplots(figsize=(20,10))\n#sns.pointplot(x='heals', y='winPlacePerc', data=items, color='black')\n#sns.pointplot(x='boosts',y='winPlacePerc', data=items, color='red')\n#plt.text(4,0.6, 'heals', color='black')\n#plt.text(4,0.5, 'boosts', color='red')\n#plt.ylabel('Win per')\n#plt.xlabel('Items')",
      "execution_count": null,
      "outputs": []
    },
    {
      "metadata": {
        "_uuid": "d0d3a6ca225b2b136d83097f2e0a78a3a5aa3212"
      },
      "cell_type": "markdown",
      "source": "## MatchType"
    },
    {
      "metadata": {
        "collapsed": true,
        "_uuid": "9aadddafd75e4d14e089b52b37440f39e5ba14d2"
      },
      "cell_type": "markdown",
      "source": "There are 3 game modes in the game. One can play solo, or with a friend (duo), or with 3 other friends (squad). 100 players join the same server, so in the case of duos the max teams are 50 and in the case of squads the max teams are 25."
    },
    {
      "metadata": {
        "trusted": true,
        "_uuid": "b6d925fe7631f4778963a657f92d8ddb65296507"
      },
      "cell_type": "code",
      "source": "#solo = df_train[df_train['numGroups'] >50]\n#duo = df_train[(df_train['numGroups'] <=50) & (df_train['numGroups'] >25)]\n#squad = df_train[df_train['numGroups'] <=25]",
      "execution_count": null,
      "outputs": []
    },
    {
      "metadata": {
        "trusted": true,
        "_uuid": "893ad3e1faf536b690c1ddfafeb5dbb57ced20fe"
      },
      "cell_type": "code",
      "source": "#plt.subplots(figsize=(20,10))\n#sns.pointplot(x='kills', y='winPlacePerc', data=solo, color='black')\n#sns.pointplot(x='kills', y='winPlacePerc', data=duo, color='red')\n#sns.pointplot(x='kills', y='winPlacePerc', data=squad, color='blue')\n#plt.text(4,0.6, 'solo',fontsize=20, color='black')\n#plt.text(4,0.5, 'duo', fontsize=20,color='red')\n#plt.text(4,0.5, 'sqaud',fontsize=20, color='red')\n#plt.xlabel('Number kills', fontsize=20)\n#plt.ylabel('Win Perc', fontsize=20)\n#plt.grid()",
      "execution_count": null,
      "outputs": []
    },
    {
      "metadata": {
        "_uuid": "9b4267b02a6943143806079feef67e3e3230768e"
      },
      "cell_type": "markdown",
      "source": "The attribute DBNOs means enemy players knocked. A \"knock\" can happen only in duos or squads, because the teammates have the chance to \"revive\" the knocked player in a given time. So a knocked player can be revived or die. If he is revived, the next time he will be knocked, his teammates will have less time to revive him.\n\n"
    },
    {
      "metadata": {
        "trusted": true,
        "_uuid": "e8a5b4a3a5d9f4540d6cdb44439765ef946b6043"
      },
      "cell_type": "code",
      "source": "#plt.subplots(figsize=(20,10))\n#sns.pointplot(x='assists', y='winPlacePerc', data=duo, color='black')\n#sns.pointplot(x='DBNOs', y='winPlacePerc', data=duo, color='red')\n#sns.pointplot(x='revives', y='winPlacePerc', data=duo, color='blue')\n#plt.text(4,0.6, 'assists',fontsize=20, color='black')\n#plt.text(4,0.5, 'DBNOs', fontsize=20,color='red')\n#plt.text(5,0.5, 'revives',fontsize=20, color='blue')\n#plt.xlabel('assist\\revive\\dbno', fontsize=20)\n#plt.ylabel('Win Perc', fontsize=20)\n#plt.grid()",
      "execution_count": null,
      "outputs": []
    },
    {
      "metadata": {
        "trusted": true,
        "_uuid": "ab875ec15e598538ec8934b63c366420ad5e2618"
      },
      "cell_type": "code",
      "source": "#plt.subplots(figsize=(20,10))\n#sns.pointplot(x='assists', y='winPlacePerc', data=squad, color='black')\n#sns.pointplot(x='DBNOs', y='winPlacePerc', data=squad, color='red')\n#sns.pointplot(x='revives', y='winPlacePerc', data=squad, color='blue')\n#plt.text(4,0.6, 'assists',fontsize=20, color='black')\n#plt.text(4,0.5, 'DBNOs', fontsize=20,color='red')\n#plt.text(5,0.5, 'revives',fontsize=20, color='blue')\n#plt.xlabel('assist\\revive\\dbno', fontsize=20)\n#plt.ylabel('Win Perc', fontsize=20)\n#plt.grid()",
      "execution_count": null,
      "outputs": []
    },
    {
      "metadata": {
        "trusted": true,
        "_uuid": "042cfb1cc22664e573649968480b018cc6a35e36"
      },
      "cell_type": "code",
      "source": "#f, ax = plt.subplots(figsize=(15,15))\n#sns.heatmap(df_train.corr(), annot=True,linewidths=.5, fmt= '.1f', ax=ax)",
      "execution_count": null,
      "outputs": []
    },
    {
      "metadata": {
        "_uuid": "487944d1ffb85627bfaaad3cbe9279b328dcd171"
      },
      "cell_type": "markdown",
      "source": "The highest positive correlation is walkDistance and the highest negative the killPlace."
    },
    {
      "metadata": {
        "trusted": true,
        "_uuid": "7b3a9d6f0d69fbcda565099b5c342c27c9fd59a1"
      },
      "cell_type": "code",
      "source": "#k =5\n#cols = df_train.corr().nlargest(k, 'winPlacePerc')['winPlacePerc'].index\n#cm = np.corrcoef(df_train[cols].values.T)",
      "execution_count": null,
      "outputs": []
    },
    {
      "metadata": {
        "trusted": true,
        "_uuid": "4c8b09e982ea117a185893c8e3dd50ecf252d590"
      },
      "cell_type": "code",
      "source": "#f, ax = plt.subplots(figsize=(11,11))\n#sns.heatmap(cm, linewidths=.5, square=True, yticklabels=cols.values\n#           , xticklabels=cols.values,annot=True)",
      "execution_count": null,
      "outputs": []
    },
    {
      "metadata": {
        "_uuid": "986247a06b5c5edfb42a002b38e4aea609d19847"
      },
      "cell_type": "markdown",
      "source": "## Feature Engineering"
    },
    {
      "metadata": {
        "collapsed": true,
        "_uuid": "9c6c7db241c9e6112d50ed036ed23990c4f985c2"
      },
      "cell_type": "markdown",
      "source": "lets create column which show us how many players joined to match"
    },
    {
      "metadata": {
        "trusted": true,
        "_uuid": "f5a4789a128b5d2f01b1d813d3f5fbf612b6b923"
      },
      "cell_type": "code",
      "source": "df_train['joined'] = df_train.groupby(['matchId'])['Id'].transform('count')",
      "execution_count": null,
      "outputs": []
    },
    {
      "metadata": {
        "trusted": true,
        "_uuid": "1fa4bb1d4dd2e4a9fd21fd0d34fe117c46a33c42"
      },
      "cell_type": "code",
      "source": "plt.figure(figsize=(15,10))\nsns.countplot(df_train[df_train.joined >=50].joined)\nplt.title('players joined')",
      "execution_count": null,
      "outputs": []
    },
    {
      "metadata": {
        "trusted": true,
        "_uuid": "471b70022a3f25ca2a9f1bc34708d154627b73b4"
      },
      "cell_type": "code",
      "source": "df_train['killsNorm'] = df_train['kills']*((100-df_train['joined'])/100 + 1)\ndf_train['damageDealtNorm'] = df_train['damageDealt']*((100-df_train['joined'])/100 + 1)\n",
      "execution_count": null,
      "outputs": []
    },
    {
      "metadata": {
        "trusted": true,
        "_uuid": "3926442614ef97c2615af3285ccc0253c64917c2"
      },
      "cell_type": "code",
      "source": "df_train[['joined', 'kills', 'killsNorm', 'damageDealt', 'damageDealtNorm']].head()\n",
      "execution_count": null,
      "outputs": []
    },
    {
      "metadata": {
        "_uuid": "45a1478ff78126fd83c9e537d9e058837d2e960c"
      },
      "cell_type": "markdown",
      "source": "just sum of items and distance"
    },
    {
      "metadata": {
        "trusted": true,
        "_uuid": "73ad6cb71da23751aec1f4cb79ba00706332508f"
      },
      "cell_type": "code",
      "source": "df_train['healsAndBoosts'] = df_train['heals']+df_train['boosts']\ndf_train['totalDistance'] = df_train['walkDistance']+df_train['rideDistance']+df_train['swimDistance']\n",
      "execution_count": null,
      "outputs": []
    },
    {
      "metadata": {
        "trusted": true,
        "_uuid": "94729303f083764335813489de8f1bf8d9d0919f"
      },
      "cell_type": "code",
      "source": "df_train['boostsPerWalkDistance'] = df_train['boosts']/(df_train['walkDistance']+1) #The +1 is to avoid infinity, because there are entries where boosts>0 and walkDistance=0. Strange.\ndf_train['boostsPerWalkDistance'].fillna(0, inplace=True)\ndf_train['healsPerWalkDistance'] = df_train['heals']/(df_train['walkDistance']+1) #The +1 is to avoid infinity, because there are entries where heals>0 and walkDistance=0. Strange.\ndf_train['healsPerWalkDistance'].fillna(0, inplace=True)\ndf_train['healsAndBoostsPerWalkDistance'] = df_train['healsAndBoosts']/(df_train['walkDistance']+1) #The +1 is to avoid infinity.\ndf_train['healsAndBoostsPerWalkDistance'].fillna(0, inplace=True)\ndf_train[['walkDistance', 'boosts', 'boostsPerWalkDistance' ,'heals',  'healsPerWalkDistance', 'healsAndBoosts', 'healsAndBoostsPerWalkDistance']][40:45]\n\n\n",
      "execution_count": null,
      "outputs": []
    },
    {
      "metadata": {
        "_uuid": "912a4d768850da399895e16935251fb19b49ca6b"
      },
      "cell_type": "markdown",
      "source": "let's create the feature \"killsPerWalkDistance\"."
    },
    {
      "metadata": {
        "trusted": true,
        "_uuid": "d8eb76a597d1526e39f64c5c61b983c5d4dadb47"
      },
      "cell_type": "code",
      "source": "\ndf_train['killsPerWalkDistance'] = df_train['kills']/(df_train['walkDistance']+1) #The +1 is to avoid infinity, because there are entries where kills>0 and walkDistance=0. Strange.\ndf_train['killsPerWalkDistance'].fillna(0, inplace=True)\ndf_train[['kills', 'walkDistance', 'rideDistance', 'killsPerWalkDistance', 'winPlacePerc']].sort_values(by='killsPerWalkDistance').tail(10)",
      "execution_count": null,
      "outputs": []
    },
    {
      "metadata": {
        "_uuid": "0cab4d243aeb457ecd2ab5010fc6c6971967a636"
      },
      "cell_type": "markdown",
      "source": "column for matchtype: solo, duo suqad"
    },
    {
      "metadata": {
        "trusted": true,
        "_uuid": "20429464ff7c15244f45af352a99859dcb5878af"
      },
      "cell_type": "code",
      "source": "df_train['team'] = [1 if i>50 else 2 if (i>25 & i<=50) else 4 for i in df_train['numGroups']]",
      "execution_count": null,
      "outputs": []
    },
    {
      "metadata": {
        "scrolled": true,
        "trusted": true,
        "_uuid": "fc57c2f386bf50f8167964223c197438b6409dd3"
      },
      "cell_type": "code",
      "source": "df_train.head()",
      "execution_count": null,
      "outputs": []
    },
    {
      "metadata": {
        "trusted": true,
        "_uuid": "4c4c4a6fc705d9895f170e14c4b53b5647b4369b"
      },
      "cell_type": "code",
      "source": "df_train['headshot_rate'] = df_train['headshotKills'] / df_train['kills']",
      "execution_count": null,
      "outputs": []
    },
    {
      "metadata": {
        "trusted": true,
        "_uuid": "997627fc96afc3c63375d856b314a2054ca57ec0"
      },
      "cell_type": "code",
      "source": "df_train['headshot_rate'].fillna(value=0, inplace=True)",
      "execution_count": null,
      "outputs": []
    },
    {
      "metadata": {
        "trusted": true,
        "_uuid": "5a48db8aaa77b2e4583dab094415a9e8f39e8fd6"
      },
      "cell_type": "code",
      "source": "df_train.head()",
      "execution_count": null,
      "outputs": []
    },
    {
      "metadata": {
        "collapsed": true,
        "_uuid": "ebe30765b47571f71611b27cf10cdef52cc38e1c"
      },
      "cell_type": "markdown",
      "source": "\n### Outlier Detection\n#### Kills without movement\n"
    },
    {
      "metadata": {
        "trusted": true,
        "_uuid": "8be4bd23a572fed127542dfb4fb6d1cae7350565"
      },
      "cell_type": "code",
      "source": "df_train['killsWithoutMoving'] = (df_train.kills > 0) & (df_train.totalDistance==0)",
      "execution_count": null,
      "outputs": []
    },
    {
      "metadata": {
        "trusted": true,
        "_uuid": "374f3ab2d787822e8e07a10e7f901a33785e1fc4"
      },
      "cell_type": "code",
      "source": "df_train[df_train['killsWithoutMoving'] == True].head()",
      "execution_count": null,
      "outputs": []
    },
    {
      "metadata": {
        "trusted": true,
        "_uuid": "016d454faf7953443c71f3c9198381f54016dd12"
      },
      "cell_type": "code",
      "source": "df_train.drop(df_train[df_train['killsWithoutMoving'] == True].index, inplace=True)",
      "execution_count": null,
      "outputs": []
    },
    {
      "metadata": {
        "trusted": true,
        "_uuid": "65a2934ee73cfcd239894704094b212e82e0c03a"
      },
      "cell_type": "code",
      "source": "df_train[df_train['roadKills'] > 10]",
      "execution_count": null,
      "outputs": []
    },
    {
      "metadata": {
        "_uuid": "4e455213c62d3a8d089b3388b59298f31fc47715"
      },
      "cell_type": "markdown",
      "source": "#### Anomalies in aim"
    },
    {
      "metadata": {
        "trusted": true,
        "_uuid": "cd1b6ee613634965bb54c3dbe138d658de7d60cf"
      },
      "cell_type": "code",
      "source": "plt.figure(figsize = (12,4))\nsns.countplot(data=df_train, x=df_train['kills'])\nplt.title('kills')",
      "execution_count": null,
      "outputs": []
    },
    {
      "metadata": {
        "trusted": true,
        "_uuid": "6b56a0b4c60a9879ca3f3362955b7fa7de165352"
      },
      "cell_type": "code",
      "source": "df_train.drop(df_train[df_train['longestKill'] >= 1000].index, inplace=True)",
      "execution_count": null,
      "outputs": []
    },
    {
      "metadata": {
        "_uuid": "046980d02aa40473a01c8c3c10540105dfd3ec02"
      },
      "cell_type": "markdown",
      "source": "#### Anomalies in travelling"
    },
    {
      "metadata": {
        "trusted": true,
        "_uuid": "9a561830cee8691ed921551422dbef5c4407b34c"
      },
      "cell_type": "code",
      "source": "df_train[['walkDistance', 'rideDistance', 'swimDistance', 'totalDistance']].describe()",
      "execution_count": null,
      "outputs": []
    },
    {
      "metadata": {
        "_uuid": "24fde53cf5f353e23f96229fb2ce952ed85af174"
      },
      "cell_type": "markdown",
      "source": "#### walkDistance"
    },
    {
      "metadata": {
        "trusted": true,
        "_uuid": "f46aebe6db43985cf77f7148d8e4dd328a3d9574"
      },
      "cell_type": "code",
      "source": "plt.figure(figsize=(12,4))\nsns.distplot(df_train['walkDistance'], bins=10)\nplt.show()",
      "execution_count": null,
      "outputs": []
    },
    {
      "metadata": {
        "trusted": true,
        "_uuid": "f8d3f418725addec118d64d6ea5d40ce336cb5d9"
      },
      "cell_type": "code",
      "source": "df_train[df_train.walkDistance >= 10000].head()",
      "execution_count": null,
      "outputs": []
    },
    {
      "metadata": {
        "trusted": true,
        "_uuid": "81e46dfdeb997089c0d3b3f8adf03de78313e430"
      },
      "cell_type": "code",
      "source": "# Remove outliers\ndf_train.drop(df_train[df_train['walkDistance'] >= 10000].index, inplace=True)",
      "execution_count": null,
      "outputs": []
    },
    {
      "metadata": {
        "_uuid": "083a51999fa856e74e1701209c3ae5e19d1b3045"
      },
      "cell_type": "markdown",
      "source": "#### rideDistance"
    },
    {
      "metadata": {
        "trusted": true,
        "_uuid": "4e76ea5842e47dd0882947eb5b191cfd19a88926"
      },
      "cell_type": "code",
      "source": "plt.figure(figsize=(12,4))\nsns.distplot(df_train['rideDistance'],bins=10)",
      "execution_count": null,
      "outputs": []
    },
    {
      "metadata": {
        "trusted": true,
        "_uuid": "609cbf24cf7776ea25a28d5f040238db4db8567f"
      },
      "cell_type": "code",
      "source": "# Remove outliers\ndf_train.drop(df_train[df_train['rideDistance'] >= 20000].index, inplace=True)",
      "execution_count": null,
      "outputs": []
    },
    {
      "metadata": {
        "_uuid": "e00af635082e49d0f72b8dddc690819c5e704bcf"
      },
      "cell_type": "markdown",
      "source": "#### swimDistance"
    },
    {
      "metadata": {
        "trusted": true,
        "_uuid": "bc80e10e03de90c8d45a7fd4885782a15da17f39"
      },
      "cell_type": "code",
      "source": "plt.figure(figsize=(12,4))\nsns.distplot(df_train['swimDistance'],bins=10)",
      "execution_count": null,
      "outputs": []
    },
    {
      "metadata": {
        "trusted": true,
        "_uuid": "9b843dc694e53a5c03be98321cdd9d1fdde4803d"
      },
      "cell_type": "code",
      "source": "# Remove outliers\ndf_train.drop(df_train[df_train['swimDistance'] >= 2000].index, inplace=True)",
      "execution_count": null,
      "outputs": []
    },
    {
      "metadata": {
        "_uuid": "ffb5344d06a892c0ce039d159bc97765a6fcd5fa"
      },
      "cell_type": "markdown",
      "source": "#### Anomalies in supplies"
    },
    {
      "metadata": {
        "trusted": true,
        "_uuid": "f61720ad965c096ec421f8a26057d8426d276b4f"
      },
      "cell_type": "code",
      "source": "plt.figure(figsize=(12,4))\nsns.distplot(df_train['weaponsAcquired'],bins=100)",
      "execution_count": null,
      "outputs": []
    },
    {
      "metadata": {
        "trusted": true,
        "_uuid": "ad1d9b06b0ab7ca1734ddc065eae8120ed71b1e4"
      },
      "cell_type": "code",
      "source": "# Remove outliers\ndf_train.drop(df_train[df_train['weaponsAcquired'] >= 80].index, inplace=True)",
      "execution_count": null,
      "outputs": []
    },
    {
      "metadata": {
        "trusted": true,
        "_uuid": "59eaee89dcbb4129cc6d3723afe1e1b8ea47cf74"
      },
      "cell_type": "code",
      "source": "plt.figure(figsize=(12,4))\nsns.distplot(df_train['heals'],bins=20)",
      "execution_count": null,
      "outputs": []
    },
    {
      "metadata": {
        "trusted": true,
        "_uuid": "8c417afe0452027c60b4c8a3834a005f8a42212c"
      },
      "cell_type": "code",
      "source": "# Remove outliers\ndf_train.drop(df_train[df_train['heals'] >= 40].index, inplace=True)",
      "execution_count": null,
      "outputs": []
    },
    {
      "metadata": {
        "_uuid": "ff4cbd3fe2b4fa05f90640f0292a62b56d208db7"
      },
      "cell_type": "markdown",
      "source": "### Categorical Variables "
    },
    {
      "metadata": {
        "_uuid": "5cd99f3b4aa814d51b6661ed21c33a7172f094be"
      },
      "cell_type": "markdown",
      "source": "#### ohe for 'MatchType'"
    },
    {
      "metadata": {
        "trusted": true,
        "_uuid": "23988c18e1e7b20095f53c8dbb37a66b72818296"
      },
      "cell_type": "code",
      "source": "df_train = pd.get_dummies(df_train, columns=['matchType'])\n",
      "execution_count": null,
      "outputs": []
    },
    {
      "metadata": {
        "_uuid": "732011ce7654f95f863c150b3e127523c99bd120"
      },
      "cell_type": "markdown",
      "source": "#### category for matchtype & grouptype"
    },
    {
      "metadata": {
        "trusted": true,
        "_uuid": "6ef8dad8994133b58011c750aecf43477a1f3710"
      },
      "cell_type": "code",
      "source": "df_train['groupId'] = df_train['groupId'].astype('category')\ndf_train['matchId'] = df_train['matchId'].astype('category')\n\n\n# Get category coding for groupId and matchID\ndf_train['groupId_cat'] = df_train['groupId'].cat.codes\ndf_train['matchId_cat'] = df_train['matchId'].cat.codes\n\n\n# Get rid of old columns\ndf_train.drop(['groupId', 'matchId'], axis=1, inplace=True)\n\n# Lets take a look at our newly created features\ndf_train[['groupId_cat', 'matchId_cat']].head()",
      "execution_count": null,
      "outputs": []
    },
    {
      "metadata": {
        "trusted": true,
        "_uuid": "3a6e7c1da079b18139aa958921584403fbc2f7e0"
      },
      "cell_type": "code",
      "source": "# Drop Id column, because it probably won't be useful for our Machine Learning algorithm,\n# because the test set contains different Id's\ndf_train.drop(columns = ['Id'], inplace=True)\n",
      "execution_count": null,
      "outputs": []
    },
    {
      "metadata": {
        "collapsed": true,
        "_uuid": "fb336f97726e6522d9dd55c95f468ba23b192fac"
      },
      "cell_type": "markdown",
      "source": "### Sampling"
    },
    {
      "metadata": {
        "trusted": true,
        "_uuid": "1cf3b2b7d4f8359081cfdcf0207d55ccfcf3b5ed"
      },
      "cell_type": "code",
      "source": "sample = 500000\ndf_sample = df_train.sample(sample)",
      "execution_count": null,
      "outputs": []
    },
    {
      "metadata": {
        "trusted": true,
        "_uuid": "77f17048d0aad53e75ebc3a65fad25427766010d"
      },
      "cell_type": "code",
      "source": "df_sample.shape",
      "execution_count": null,
      "outputs": []
    },
    {
      "metadata": {
        "collapsed": true,
        "trusted": false,
        "_uuid": "d22e5acb68532212e566b2528f7da44a95bd10f6"
      },
      "cell_type": "markdown",
      "source": "### MAE"
    },
    {
      "metadata": {
        "trusted": true,
        "_uuid": "09b49d2d028b2c5bc84a1008e6a48b51dd9bc1be"
      },
      "cell_type": "code",
      "source": "# Metric used for the PUBG competition (Mean Absolute Error (MAE))\nfrom sklearn.metrics import mean_absolute_error\n\n# Function to print the MAE (Mean Absolute Error) score\n# This is the metric used by Kaggle in this competition\ndef print_score(m : RandomForestRegressor):\n    res = ['mae train: ', mean_absolute_error(m.predict(X_train), y_train), \n           'mae val: ', mean_absolute_error(m.predict(X_valid), y_valid)]\n    if hasattr(m, 'oob_score_'): res.append(m.oob_score_)\n    print(res)",
      "execution_count": null,
      "outputs": []
    },
    {
      "metadata": {
        "_uuid": "782fc758878108892a71c16fe8cadf5da1e1a25c"
      },
      "cell_type": "markdown",
      "source": "### SplitData"
    },
    {
      "metadata": {
        "trusted": true,
        "_uuid": "88c0355019284c1f7a9d0a45d82ae118ef0d1da1"
      },
      "cell_type": "code",
      "source": "# Split sample into training data and target variable\ndf = df_sample.drop(columns = ['winPlacePerc']) #all columns except target\ny = df_sample['winPlacePerc'] # Only target variable",
      "execution_count": null,
      "outputs": []
    },
    {
      "metadata": {
        "trusted": true,
        "_uuid": "f444018df0912de7f8ae257246d843f07ebd511b"
      },
      "cell_type": "code",
      "source": "X_train, X_valid, y_train, y_valid = train_test_split(df, y, test_size=0.33, random_state=42)",
      "execution_count": null,
      "outputs": []
    },
    {
      "metadata": {
        "_uuid": "4a1356c2cd099dd0c33b1baeba18842eb6f180ad"
      },
      "cell_type": "markdown",
      "source": "### Fit"
    },
    {
      "metadata": {
        "trusted": true,
        "_uuid": "741e96d6282acaf78b019a5121b119d2894401bc"
      },
      "cell_type": "code",
      "source": "#m1 = RandomForestRegressor(n_estimators=70, min_samples_leaf=3, max_features=0.5,\n#                          n_jobs=-1)\n#m1.fit(X_train, y_train)\n#print_score(m1)",
      "execution_count": null,
      "outputs": []
    },
    {
      "metadata": {
        "trusted": true,
        "_uuid": "5035025ff5291ca0248b41e12a30f8b486cd0ae2"
      },
      "cell_type": "code",
      "source": "#fi = rf_feat_importance(m1, df); fi[:10]",
      "execution_count": null,
      "outputs": []
    },
    {
      "metadata": {
        "trusted": true,
        "_uuid": "2c06121f6b1d530fb3f8a2e91bbc13c1b5f98dd0"
      },
      "cell_type": "code",
      "source": "#plot1 = fi[:20].plot('cols', 'imp', figsize=(14,6), legend=False, kind = 'barh')\n#plot1",
      "execution_count": null,
      "outputs": []
    },
    {
      "metadata": {
        "trusted": true,
        "_uuid": "3df78c39c7e1e7aec13dabf48e52ff9dc517698a"
      },
      "cell_type": "code",
      "source": "#to_keep = fi[fi.imp>0.005].cols\n#print('Significant features: ', len(to_keep))\n#to_keep",
      "execution_count": null,
      "outputs": []
    },
    {
      "metadata": {
        "trusted": true,
        "_uuid": "281f19402e7dba643be8e35fd0fc9727fcf28af3"
      },
      "cell_type": "code",
      "source": "",
      "execution_count": null,
      "outputs": []
    },
    {
      "metadata": {
        "trusted": true,
        "_uuid": "2d4cef0383b8becc2bdeaa17b944e5f5e0e54306"
      },
      "cell_type": "code",
      "source": "## Split sample into training data and target variable\n#df = df_sample.drop(columns = ['winPlacePerc']) #all columns except target\n#y = df_sample['winPlacePerc'] # Only target variable",
      "execution_count": null,
      "outputs": []
    },
    {
      "metadata": {
        "trusted": true,
        "_uuid": "22728558b9090dfb21169d323ef753549aaa81bb"
      },
      "cell_type": "code",
      "source": "#df_keep = df[to_keep]",
      "execution_count": null,
      "outputs": []
    },
    {
      "metadata": {
        "trusted": true,
        "_uuid": "070ff9fe61e95873b830bfeb80d94cf2049e21bf"
      },
      "cell_type": "code",
      "source": "#X_train, X_valid, y_train, y_valid = train_test_split(df_keep, y, test_size=0.33, random_state=42)",
      "execution_count": null,
      "outputs": []
    },
    {
      "metadata": {
        "trusted": true,
        "_uuid": "a026c8ebb15cc2e6ba75d01c5b1d4fcf0c89a443"
      },
      "cell_type": "code",
      "source": "#m3 = RandomForestRegressor(n_estimators=70, min_samples_leaf=3, max_features=0.5,\n#                          n_jobs=-1)\n#m3.fit(X_train, y_train)\n#print_score(m3)",
      "execution_count": null,
      "outputs": []
    },
    {
      "metadata": {
        "_uuid": "7aa613fdef034f27aaa989592d586c0df50ebeac"
      },
      "cell_type": "markdown",
      "source": "### Tok_keep model"
    },
    {
      "metadata": {
        "trusted": true,
        "_uuid": "7714ba5e848f26612f3e4cfd87d0c3c13d9d7502"
      },
      "cell_type": "code",
      "source": "## Split sample into training data and target variable\n#df_tr_kep = df_train.drop(columns = ['winPlacePerc']) #all columns except target\n#y = df_train['winPlacePerc'] # Only target variable",
      "execution_count": null,
      "outputs": []
    },
    {
      "metadata": {
        "trusted": true,
        "_uuid": "2c615980f0c66e3b18b8e7050831212be931620f"
      },
      "cell_type": "code",
      "source": "#df_tr_kep = df_tr_kep[to_keep]\n#df_tr_kep.shape",
      "execution_count": null,
      "outputs": []
    },
    {
      "metadata": {
        "trusted": true,
        "_uuid": "907f8f17c6462df48bd26c203ff3b2e9a1aaa210"
      },
      "cell_type": "code",
      "source": "#X_train, X_valid, y_train, y_valid = train_test_split(df_tr_kep, y, test_size=0.33, random_state=42)",
      "execution_count": null,
      "outputs": []
    },
    {
      "metadata": {
        "trusted": true,
        "_uuid": "2b35ff4dc84a56798f57f7568818e27a1bcab8a5"
      },
      "cell_type": "code",
      "source": "#m2 = RandomForestRegressor(n_estimators=70, min_samples_leaf=3, max_features=0.5,\n#                          n_jobs=-1)\n#m2.fit(X_train, y_train)\n#",
      "execution_count": null,
      "outputs": []
    },
    {
      "metadata": {
        "trusted": true,
        "_uuid": "940f4704ef83995f198c301d53e082e57a676863"
      },
      "cell_type": "code",
      "source": "#print_score(m1)",
      "execution_count": null,
      "outputs": []
    },
    {
      "metadata": {
        "_uuid": "8434eca689ad47c3a97f53ce67fa2a0b0080a927"
      },
      "cell_type": "markdown",
      "source": "### xgboost"
    },
    {
      "metadata": {
        "trusted": true,
        "_uuid": "782bd9e56c956ee14559d5dcd1c291a842dadb20"
      },
      "cell_type": "code",
      "source": "import xgboost",
      "execution_count": null,
      "outputs": []
    },
    {
      "metadata": {
        "trusted": true,
        "_uuid": "c59457268ce7840f56ae417039224b2697215082"
      },
      "cell_type": "code",
      "source": "xgb = xgboost.XGBRegressor(n_estimators=100, learning_rate=0.08, gamma=0, subsample=0.75,\n                           colsample_bytree=1, max_depth=7,eval_metric='mae')",
      "execution_count": null,
      "outputs": []
    },
    {
      "metadata": {
        "trusted": true,
        "_uuid": "0621f0e9777044295c1707c242efe2c91f1f48f8"
      },
      "cell_type": "code",
      "source": "xgb.fit(X_train,y_train)",
      "execution_count": null,
      "outputs": []
    },
    {
      "metadata": {
        "trusted": true,
        "_uuid": "3fdcecaa0295079df68e773c5b274aef718d5158"
      },
      "cell_type": "code",
      "source": " mean_absolute_error(xgb.predict(X_valid), y_valid), ",
      "execution_count": null,
      "outputs": []
    },
    {
      "metadata": {
        "trusted": true,
        "_uuid": "86524a4bf2fc51c99c147a1afc2084e5adf49676"
      },
      "cell_type": "markdown",
      "source": "### Submition"
    },
    {
      "metadata": {
        "trusted": true,
        "_uuid": "dbc98fe523e62f76723029834f9f3b9358ecf4b1"
      },
      "cell_type": "code",
      "source": "Id = df_test.Id\nlen(Id)",
      "execution_count": null,
      "outputs": []
    },
    {
      "metadata": {
        "trusted": true,
        "_uuid": "e95c4e9846498ee979a5f0fb957ff1d4b705ba62"
      },
      "cell_type": "code",
      "source": "df_test['joined'] = df_test.groupby(['matchId'])['Id'].transform('count')\ndf_test['killsNorm'] = df_test['kills']*((100-df_test['joined'])/100 + 1)\n\ndf_test['damageDealtNorm'] = df_test['damageDealt']*((100-df_test['joined'])/100 + 1)\n\ndf_test['healsAndBoosts'] = df_test['heals']+df_test['boosts']\ndf_test['totalDistance'] = df_test['walkDistance']+df_test['rideDistance']+df_test['swimDistance']\n\n\ndf_test['boostsPerWalkDistance'] = df_test['boosts']/(df_test['walkDistance']+1) #The +1 is to avoid infinity, because there are entries where boosts>0 and walkDistance=0. Strange.\ndf_test['boostsPerWalkDistance'].fillna(0, inplace=True)\ndf_test['healsPerWalkDistance'] = df_test['heals']/(df_test['walkDistance']+1) #The +1 is to avoid infinity, because there are entries where heals>0 and walkDistance=0. Strange.\ndf_test['healsPerWalkDistance'].fillna(0, inplace=True)\ndf_test['healsAndBoostsPerWalkDistance'] = df_test['healsAndBoosts']/(df_test['walkDistance']+1) #The +1 is to avoid infinity.\ndf_test['healsAndBoostsPerWalkDistance'].fillna(0, inplace=True)\n\n\ndf_test['killsPerWalkDistance'] = df_test['kills']/(df_test['walkDistance']+1) #The +1 is to avoid infinity, because there are entries where kills>0 and walkDistance=0. Strange.\ndf_test['killsPerWalkDistance'].fillna(0, inplace=True)\n\ndf_test['team'] = [1 if i>50 else 2 if (i>25 & i<=50) else 4 for i in df_test['numGroups']]\n\n\ndf_test['headshot_rate'] = df_test['headshotKills'] / df_test['kills']\ndf_test['headshot_rate'].fillna(value=0, inplace=True)\n\ndf_test['killsWithoutMoving'] = (df_test.kills > 0) & (df_test.totalDistance==0)\n\ndf_test = pd.get_dummies(df_test, columns=['matchType'])\n\ndf_test['groupId'] = df_test['groupId'].astype('category')\ndf_test['matchId'] = df_test['matchId'].astype('category')\n\n\n# Get category coding for groupId and matchID\ndf_test['groupId_cat'] = df_test['groupId'].cat.codes\ndf_test['matchId_cat'] = df_test['matchId'].cat.codes\n\n\n# Get rid of old columns\ndf_test.drop(['groupId', 'matchId'], axis=1, inplace=True)\ndf_test.drop(columns = ['Id'], inplace=True)",
      "execution_count": null,
      "outputs": []
    },
    {
      "metadata": {
        "trusted": true,
        "_uuid": "9971c7b632837d7e0f1b0c602972aee900da81c1"
      },
      "cell_type": "code",
      "source": "# Remove irrelevant features from the test set\ntest_pred = df_test.copy()#[to_keep].copy()\n\n# Fill NaN with 0 (temporary)\ntest_pred.fillna(0, inplace=True)\nprint(test_pred.shape)\ntest_pred.head()",
      "execution_count": null,
      "outputs": []
    },
    {
      "metadata": {
        "trusted": true,
        "_uuid": "6e8e19d1fb3de5992416acbfc3bce48ebbe3beb6"
      },
      "cell_type": "code",
      "source": "# Make submission ready for Kaggle\n# We use our final Random Forest model (m3) to get the predictions\npredictions = np.clip(a = xgb.predict(test_pred), a_min = 0.0, a_max = 1.0)\npred_df = pd.DataFrame({'Id' : Id, 'winPlacePerc' : predictions})\n\n# Create submission file\npred_df.to_csv(\"submission.csv\", index=False)",
      "execution_count": null,
      "outputs": []
    },
    {
      "metadata": {
        "trusted": true,
        "_uuid": "8da49c248383feb80e338aed694a74a328073fda"
      },
      "cell_type": "code",
      "source": "pred_df.head()",
      "execution_count": null,
      "outputs": []
    },
    {
      "metadata": {
        "trusted": true,
        "_uuid": "f975fa67aae34f542aa24b3737ad49d8acd1b28f"
      },
      "cell_type": "code",
      "source": "pred_df.tail()",
      "execution_count": null,
      "outputs": []
    },
    {
      "metadata": {
        "trusted": true,
        "_uuid": "9ec3a74174e5cf2cc7f3c09bfc2de8eb38b3b130"
      },
      "cell_type": "code",
      "source": "\n",
      "execution_count": null,
      "outputs": []
    }
  ],
  "metadata": {
    "kernelspec": {
      "display_name": "Python 3",
      "language": "python",
      "name": "python3"
    },
    "language_info": {
      "name": "python",
      "version": "3.6.6",
      "mimetype": "text/x-python",
      "codemirror_mode": {
        "name": "ipython",
        "version": 3
      },
      "pygments_lexer": "ipython3",
      "nbconvert_exporter": "python",
      "file_extension": ".py"
    }
  },
  "nbformat": 4,
  "nbformat_minor": 1
}